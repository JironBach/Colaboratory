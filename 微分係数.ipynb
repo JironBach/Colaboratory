{
 "cells": [
  {
   "cell_type": "markdown",
   "metadata": {
    "colab_type": "text",
    "id": "3MbDX16NVA3r"
   },
   "source": [
    "# 問題\n",
    "関数 $f(x)=x^3-x^2$ について、x=-1からx=3までの平均変化率が、\n",
    "x=aにおける微分係数f'(a)と等しくなるように定数aの値を定めよ。\n"
   ]
  },
  {
   "cell_type": "markdown",
   "metadata": {},
   "source": [
    "## 回答"
   ]
  },
  {
   "cell_type": "markdown",
   "metadata": {
    "colab_type": "text",
    "id": "OPVPof8BLcoy"
   },
   "source": [
    "$f'(x)=\\lim_{3 \\to -1}\\frac{3^3-3^2-\\{(-1)^3-(-1)^2\\}}{3+1} \\label{1}$\n",
    "$=\\frac{27-9-(-1-1)}{4} \\label{2}$\n",
    "$=\\frac{18+2}{4}=5 \\label{3}$\n"
   ]
  },
  {
   "cell_type": "markdown",
   "metadata": {
    "colab_type": "text",
    "id": "lLOFy9eYLcoz"
   },
   "source": [
    "$f(a)=3a^2-2a=5$\n"
   ]
  },
  {
   "cell_type": "markdown",
   "metadata": {
    "colab_type": "text",
    "id": "B4CHHVEILco0"
   },
   "source": [
    "$3a^2-2a-5=(3a-5)(a+1)=0$\n"
   ]
  },
  {
   "cell_type": "markdown",
   "metadata": {
    "colab_type": "text",
    "id": "ywsa-G9WLco1"
   },
   "source": [
    "∴ $a=-1, \\frac{5}{3}$\n"
   ]
  },
  {
   "cell_type": "markdown",
   "metadata": {},
   "source": [
    "### 解説\n",
    "$f'(x)=\\lim_{x \\to a}\\frac{f(x)-f(a)}{x-a}$\n"
   ]
  }
 ],
 "metadata": {
  "celltoolbar": "Slideshow",
  "colab": {
   "collapsed_sections": [],
   "name": "微分係数.ipynb",
   "provenance": [],
   "toc_visible": true
  },
  "kernelspec": {
   "display_name": "Python 3",
   "language": "python",
   "name": "python3"
  },
  "language_info": {
   "codemirror_mode": {
    "name": "ipython",
    "version": 3
   },
   "file_extension": ".py",
   "mimetype": "text/x-python",
   "name": "python",
   "nbconvert_exporter": "python",
   "pygments_lexer": "ipython3",
   "version": "3.8.1"
  }
 },
 "nbformat": 4,
 "nbformat_minor": 1
}
