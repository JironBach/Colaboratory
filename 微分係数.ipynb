{
  "nbformat": 4,
  "nbformat_minor": 0,
  "metadata": {
    "celltoolbar": "Slideshow",
    "kernelspec": {
      "display_name": "Python 3",
      "language": "python",
      "name": "python3"
    },
    "language_info": {
      "codemirror_mode": {
        "name": "ipython",
        "version": 3
      },
      "file_extension": ".py",
      "mimetype": "text/x-python",
      "name": "python",
      "nbconvert_exporter": "python",
      "pygments_lexer": "ipython3",
      "version": "3.8.1"
    },
    "colab": {
      "name": "微分係数.ipynb",
      "provenance": [],
      "collapsed_sections": [],
      "toc_visible": true
    }
  },
  "cells": [
    {
      "cell_type": "markdown",
      "metadata": {
        "id": "3MbDX16NVA3r",
        "colab_type": "text"
      },
      "source": [
        "#問題\n",
        "関数 $f(x)=x^3-x^2$ について、x=-1からx=3までの平均変化率が、\n",
        "x=aにおける微分係数f'(a)と等しくなるように定数aの値を定めよ。\n"
      ]
    },
    {
      "cell_type": "markdown",
      "metadata": {
        "id": "OPVPof8BLcoy",
        "colab_type": "text"
      },
      "source": [
        "$f'(x)=\\lim_{3 \\to -1}\\frac{3^3-3^2-{(-1)^3-(-1)^2}}{3+1} \\label{1}$\n",
        "$=\\frac{27-9-(-1-1)}{4} \\label{2}$\n",
        "$=\\frac{18+2}{4}=5 \\label{3}$\n"
      ]
    },
    {
      "cell_type": "markdown",
      "metadata": {
        "id": "lLOFy9eYLcoz",
        "colab_type": "text"
      },
      "source": [
        "$f(a)=3a^2-2a=5$\n"
      ]
    },
    {
      "cell_type": "markdown",
      "metadata": {
        "id": "B4CHHVEILco0",
        "colab_type": "text"
      },
      "source": [
        "$3a^2-2a-5=(3a-5)(a+1)=0$\n"
      ]
    },
    {
      "cell_type": "markdown",
      "metadata": {
        "id": "ywsa-G9WLco1",
        "colab_type": "text"
      },
      "source": [
        "∴ $a=-1, \\frac{5}{3}$\n"
      ]
    }
  ]
}